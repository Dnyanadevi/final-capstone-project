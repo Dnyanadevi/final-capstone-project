{
 "cells": [
  {
   "cell_type": "markdown",
   "id": "f6ea1ab3-3aff-4739-8716-df60b067e47a",
   "metadata": {},
   "source": [
    "# 1) Pig Latin - Pig Latin is a game of alterations played on the English language game. To create the Pig Latin form of an English word the initial consonant sound is transposed to the end of the word and an ay is affixed (Ex.: \"banana\" would yield anana-bay). Read Wikipedia for more information on rules.¶"
   ]
  },
  {
   "cell_type": "code",
   "execution_count": null,
   "id": "a11a9838-dfe9-4484-b8b9-1ecfd24fe4fc",
   "metadata": {},
   "outputs": [],
   "source": []
  },
  {
   "cell_type": "code",
   "execution_count": 1,
   "id": "efbf9061-edf2-4c76-9a28-f1bfe2700d89",
   "metadata": {},
   "outputs": [
    {
     "name": "stdin",
     "output_type": "stream",
     "text": [
      "Enter a sentence:  Dnyanadevi\n"
     ]
    },
    {
     "name": "stdout",
     "output_type": "stream",
     "text": [
      "PigLatin:  anadevidny-ay\n"
     ]
    }
   ],
   "source": [
    "sentence = input (\"Enter a sentence: \").lower()\n",
    "words = sentence.split()\n",
    "\n",
    "for i,word in enumerate(words):\n",
    "    if word[0] in 'aeiou':\n",
    "        words[i] = words[i] + \"-ay\"\n",
    "    else:\n",
    "        has_vowel = False\n",
    "        for j, letter in enumerate(word):\n",
    "            if letter  in \"aeiou\":\n",
    "                words[i] = word[j:] + word[:j] + \"-ay\"\n",
    "                has_vowel = True\n",
    "                break\n",
    "                \n",
    "        if(has_vowel == False):\n",
    "            words[i] = words[i] + \"-ay\"\n",
    "            \n",
    "pig_latin = ' '.join(words)\n",
    "print(\"PigLatin: \",pig_latin)"
   ]
  },
  {
   "cell_type": "markdown",
   "id": "e64b73b0-6750-4e2c-9b2d-55a73b44c5ec",
   "metadata": {},
   "source": [
    "# 2) Next Prime Number - Have the program find prime numbers until the user chooses to stop asking for the next one."
   ]
  },
  {
   "cell_type": "code",
   "execution_count": null,
   "id": "deb8fb10-691d-49ac-8316-b49ef4be2b5d",
   "metadata": {},
   "outputs": [],
   "source": []
  },
  {
   "cell_type": "code",
   "execution_count": 2,
   "id": "8dacf21a-dd23-407d-93d3-5fb09e0bc023",
   "metadata": {},
   "outputs": [
    {
     "name": "stdin",
     "output_type": "stream",
     "text": [
      "Enter an input number: 8\n"
     ]
    },
    {
     "name": "stdout",
     "output_type": "stream",
     "text": [
      "8 is not a prime number\n",
      "2\n"
     ]
    }
   ],
   "source": [
    "def PrimeChecker(a):  \n",
    "    if a > 1:  \n",
    "        \n",
    "        for j in range(2, int(a/2) + 1):  \n",
    "              \n",
    "            if (a % j) == 0:  \n",
    "                print(a, \"is not a prime number\")\n",
    "                print(j)\n",
    "                break  \n",
    "        \n",
    "        else:  \n",
    "            print(a, \"is a prime number\")  \n",
    "    \n",
    "    else:  \n",
    "        print(a, \"is not a prime number\")  \n",
    "\n",
    "a = int(input(\"Enter an input number:\"))  \n",
    "\n",
    "PrimeChecker(a)  "
   ]
  },
  {
   "cell_type": "markdown",
   "id": "6b59c00a-0608-4ae6-b424-3f96c0e16dc6",
   "metadata": {},
   "source": [
    "# 3)  Product Inventory Project - Create an application which manages an inventory of products. Create a product class which has a price, id, and quantity on hand. Then create an inventory class which keeps track of various products and can sum up the inventory value."
   ]
  },
  {
   "cell_type": "code",
   "execution_count": null,
   "id": "015de9d5-efee-4f4d-8177-f1838b6ab077",
   "metadata": {},
   "outputs": [],
   "source": []
  },
  {
   "cell_type": "code",
   "execution_count": 15,
   "id": "d06b0e3c-fc0c-4a02-9e25-1db2a0d7ecd9",
   "metadata": {},
   "outputs": [
    {
     "name": "stdout",
     "output_type": "stream",
     "text": [
      "88\n"
     ]
    }
   ],
   "source": [
    "class Product:\n",
    "    def __init__(self, i, p, q):\n",
    "        self.identification = i\n",
    "        self.price = p\n",
    "        self.quantity = q\n",
    "        self.item_dictionary = {'ID: ': self.identification, 'Price: ': self.price, 'Quantity: ': self.quantity}\n",
    "\n",
    "\n",
    "class Inventory:\n",
    "    def __init__(self):\n",
    "        self.identification, self.price_list, self.quantity_list = [], [], []\n",
    "        self.products = [\n",
    "            product_1.item_dictionary,\n",
    "            product_2.item_dictionary\n",
    "        ]  # Make list of item dictionaries\n",
    "\n",
    "        for i in self.products:\n",
    "            self.identification.append(i['ID: '])\n",
    "            self.price_list.append(i['Price: '])\n",
    "            self.quantity_list.append(i['Quantity: '])\n",
    "            # Make unique lists of ID, Price, and Quantity\n",
    "\n",
    "        print(sum(self.price_list))\n",
    "\n",
    "\n",
    "product_1 = Product(32, 23, 2)\n",
    "product_2 = Product(23, 65, 3)\n",
    "\n",
    "\n",
    "inventory_1 = Inventory()"
   ]
  },
  {
   "cell_type": "markdown",
   "id": "14ca5c2b-58dc-40a2-baf0-2c4707707762",
   "metadata": {},
   "source": [
    "# 4) Page Scraper - Create an application which connects to a site and pulls out all links, or images, and saves them to a list. Optional: Organize the indexed content and don’t allow duplicates. Have it put the results into an easily searchable index file."
   ]
  },
  {
   "cell_type": "code",
   "execution_count": 5,
   "id": "c724fe99-3968-4fde-a86e-6abcbab9a827",
   "metadata": {},
   "outputs": [
    {
     "name": "stdout",
     "output_type": "stream",
     "text": [
      "<title>Guido van Rossum - Wikipedia</title>\n",
      "Contents\n",
      "\n",
      "1 Life and education\n",
      "2 Work\n",
      "\n",
      "2.1 Python\n",
      "2.2 1999 \"Computer Programming for Everybody\" proposal\n",
      "2.3 Google\n",
      "2.4 Dropbox\n",
      "2.5 Microsoft\n",
      "\n",
      "\n",
      "3 Awards\n",
      "4 References\n",
      "5 External links\n",
      "\n",
      "\n"
     ]
    }
   ],
   "source": [
    "# Step1: import libraries\n",
    "import requests\n",
    "from bs4 import BeautifulSoup\n",
    "\n",
    "# Step2: set url and get the webpage specified in url\n",
    "URL = \"https://en.wikipedia.org/wiki/Guido_van_Rossum\"\n",
    "r = requests.get(URL)\n",
    "\n",
    "# Step3: use bs4 to format save webpage\\e\n",
    "soup = BeautifulSoup(r.content,'html5lib')\n",
    "\n",
    "# Step4: print formatted webpage\n",
    "print(soup.find('title'))\n",
    "\n",
    "contents = soup.find_all(\"div\",class_='toc')\n",
    "for i in contents:\n",
    "    print(i.text)"
   ]
  },
  {
   "cell_type": "code",
   "execution_count": null,
   "id": "262d712d-bfef-441e-a6f0-3f71c9686cf7",
   "metadata": {},
   "outputs": [],
   "source": []
  }
 ],
 "metadata": {
  "kernelspec": {
   "display_name": "Python 3 (ipykernel)",
   "language": "python",
   "name": "python3"
  },
  "language_info": {
   "codemirror_mode": {
    "name": "ipython",
    "version": 3
   },
   "file_extension": ".py",
   "mimetype": "text/x-python",
   "name": "python",
   "nbconvert_exporter": "python",
   "pygments_lexer": "ipython3",
   "version": "3.9.7"
  }
 },
 "nbformat": 4,
 "nbformat_minor": 5
}
